{
 "cells": [
  {
   "cell_type": "markdown",
   "metadata": {},
   "source": [
    "# Profitable App Profiles for the App Store and Google Play Markets by Pavel Gladkevich\n",
    "\n",
    "This project was completed as part of the Data Analyst series of [Dataquest](https://www.dataquest.io/directory/) on 04/26/19\n",
    "<br/><br/>**Goal:** Our aim in this project is to enable a team of developers to make decisions based off of the [Apple iOS app store data](https://www.kaggle.com/ramamet4/app-store-apple-data-set-10k-apps/home) and the [Google Play Store data](https://www.kaggle.com/lava18/google-play-store-apps/home). We will analyze these data bases with the goal of suggesting possible app ideas, specifically targetting free applications that will generate revenue from in-app adds. Our suggestions will be based off of what applications are likely to attract more users and hence potentially more revenue. "
   ]
  },
  {
   "cell_type": "markdown",
   "metadata": {},
   "source": [
    "# Exploring Data"
   ]
  },
  {
   "cell_type": "code",
   "execution_count": 488,
   "metadata": {},
   "outputs": [],
   "source": [
    "#load the downloaded csv file of Apple Apps Data from file path\n",
    "open_file_1 = open('/Users/pgladkevich/Desktop/coding/projects/datasets/app_store_apple_dataset_10k_apps/AppleStore.csv')\n"
   ]
  },
  {
   "cell_type": "code",
   "execution_count": 489,
   "metadata": {},
   "outputs": [],
   "source": [
    "#load the downloaded csv file of Google Apps Data from file path\n",
    "open_file_2 = open('/Users/pgladkevich/Desktop/coding/projects/datasets/google-play-store-apps/googleplaystore.csv')"
   ]
  },
  {
   "cell_type": "code",
   "execution_count": 490,
   "metadata": {},
   "outputs": [],
   "source": [
    "# Return a reader object which will iterate over lines in the given csvfile. Each \n",
    "from csv import reader\n",
    "\n",
    "read_file_1 = reader(open_file_1)\n",
    "read_file_2 = reader(open_file_2)\n",
    "\n",
    "#The Apple App Store data set\n",
    "ios_apps_data = list(read_file_1)\n",
    "\n",
    "#The Google Play Store data set\n",
    "google_apps_data = list(read_file_2)\n",
    "\n",
    "ios_header = ios_apps_data[0]\n",
    "google_header = google_apps_data[0]\n",
    "\n",
    "#Get rid of the headers\n",
    "ios_apps_data = ios_apps_data[1:]\n",
    "google_apps_data = google_apps_data[1:]"
   ]
  },
  {
   "cell_type": "code",
   "execution_count": 491,
   "metadata": {},
   "outputs": [],
   "source": [
    "# Returns a desired number of rows from the top of the dataset and can optionally calculate the total row/columns\n",
    "def explore_data(dataset, start, end, rows_and_columns=False):\n",
    "    dataset_slice = dataset[start:end]    \n",
    "    for row in dataset_slice:\n",
    "        print(row)\n",
    "        print('\\n') # adds a new (empty) line after each row\n",
    "\n",
    "    if rows_and_columns:\n",
    "        print('Number of rows:', len(dataset))\n",
    "        print('Number of columns:', len(dataset[0]))"
   ]
  },
  {
   "cell_type": "code",
   "execution_count": 492,
   "metadata": {},
   "outputs": [
    {
     "name": "stdout",
     "output_type": "stream",
     "text": [
      "['', 'id', 'track_name', 'size_bytes', 'currency', 'price', 'rating_count_tot', 'rating_count_ver', 'user_rating', 'user_rating_ver', 'ver', 'cont_rating', 'prime_genre', 'sup_devices.num', 'ipadSc_urls.num', 'lang.num', 'vpp_lic']\n",
      "\n",
      "\n",
      "['1', '281656475', 'PAC-MAN Premium', '100788224', 'USD', '3.99', '21292', '26', '4', '4.5', '6.3.5', '4+', 'Games', '38', '5', '10', '1']\n",
      "\n",
      "\n",
      "['2', '281796108', 'Evernote - stay organized', '158578688', 'USD', '0', '161065', '26', '4', '3.5', '8.2.2', '4+', 'Productivity', '37', '5', '23', '1']\n",
      "\n",
      "\n",
      "Number of rows: 7197\n",
      "Number of columns: 17\n",
      "None\n"
     ]
    }
   ],
   "source": [
    "print(ios_header)\n",
    "print('\\n')\n",
    "print(explore_data(ios_apps_data, 0, 2, rows_and_columns=True))"
   ]
  },
  {
   "cell_type": "markdown",
   "metadata": {},
   "source": [
    "The output above is four rows from the Apple Apps Data dataset. The columns 'track_name', 'currency', 'price','rating_count_tot', 'user_rating', and 'prime_genre' might be of interest to us. Additionally our function has calculated the number of rows as 7197 so this is the total number of apps. The number of columns is 17 but there are only 16 different types of data so we will delete the first  As previously mentioned the Appstore data can be accessed from the kaggle data set homepage [here](https://www.kaggle.com/ramamet4/app-store-apple-data-set-10k-apps/home)\n",
    "\n"
   ]
  },
  {
   "cell_type": "code",
   "execution_count": 493,
   "metadata": {},
   "outputs": [
    {
     "name": "stdout",
     "output_type": "stream",
     "text": [
      "['id', 'track_name', 'size_bytes', 'currency', 'price', 'rating_count_tot', 'rating_count_ver', 'user_rating', 'user_rating_ver', 'ver', 'cont_rating', 'prime_genre', 'sup_devices.num', 'ipadSc_urls.num', 'lang.num', 'vpp_lic']\n",
      "\n",
      "\n",
      "['281656475', 'PAC-MAN Premium', '100788224', 'USD', '3.99', '21292', '26', '4', '4.5', '6.3.5', '4+', 'Games', '38', '5', '10', '1']\n",
      "\n",
      "\n",
      "['281796108', 'Evernote - stay organized', '158578688', 'USD', '0', '161065', '26', '4', '3.5', '8.2.2', '4+', 'Productivity', '37', '5', '23', '1']\n",
      "\n",
      "\n",
      "Number of rows: 7197\n",
      "Number of columns: 16\n",
      "None\n"
     ]
    }
   ],
   "source": [
    "del(ios_header[0])\n",
    "for row in ios_apps_data:\n",
    "    del(row[0])\n",
    "print(ios_header)\n",
    "print('\\n')\n",
    "print(explore_data(ios_apps_data, 0, 2, rows_and_columns=True))"
   ]
  },
  {
   "cell_type": "code",
   "execution_count": 494,
   "metadata": {
    "scrolled": true
   },
   "outputs": [
    {
     "name": "stdout",
     "output_type": "stream",
     "text": [
      "['App', 'Category', 'Rating', 'Reviews', 'Size', 'Installs', 'Type', 'Price', 'Content Rating', 'Genres', 'Last Updated', 'Current Ver', 'Android Ver']\n",
      "\n",
      "\n",
      "['Photo Editor & Candy Camera & Grid & ScrapBook', 'ART_AND_DESIGN', '4.1', '159', '19M', '10,000+', 'Free', '0', 'Everyone', 'Art & Design', 'January 7, 2018', '1.0.0', '4.0.3 and up']\n",
      "\n",
      "\n",
      "['Coloring book moana', 'ART_AND_DESIGN', '3.9', '967', '14M', '500,000+', 'Free', '0', 'Everyone', 'Art & Design;Pretend Play', 'January 15, 2018', '2.0.0', '4.0.3 and up']\n",
      "\n",
      "\n",
      "Number of rows: 10841\n",
      "Number of columns: 13\n"
     ]
    }
   ],
   "source": [
    "print(google_header)\n",
    "print('\\n')\n",
    "explore_data(google_apps_data, 0, 2, rows_and_columns=True)"
   ]
  },
  {
   "cell_type": "markdown",
   "metadata": {},
   "source": [
    "Now the output above is four rows from the Google Playstore Data dataset. The columns 'App', 'Category', 'Rating', 'Reviews', 'Installs', 'Type', 'Price', 'Content Rating', 'Genres' are of potential interest. Additionally, our function has caclulated that there are 10841 apps in the Google Playstore (subtract the header), and that the data describing them are sorted into 13 different categories (columns). Again further information is available here [Google Play Store data](https://www.kaggle.com/lava18/google-play-store-apps/home)"
   ]
  },
  {
   "cell_type": "markdown",
   "metadata": {},
   "source": [
    "# Cleaning Data \n",
    "The google data set has a [discussion board](https://www.kaggle.com/lava18/google-play-store-apps/discussion) that informs us that there is an [entry](https://www.kaggle.com/lava18/google-play-store-apps/discussion/66015) in the with an error in entry number 10472. "
   ]
  },
  {
   "cell_type": "code",
   "execution_count": 495,
   "metadata": {},
   "outputs": [
    {
     "name": "stdout",
     "output_type": "stream",
     "text": [
      "['App', 'Category', 'Rating', 'Reviews', 'Size', 'Installs', 'Type', 'Price', 'Content Rating', 'Genres', 'Last Updated', 'Current Ver', 'Android Ver']\n",
      "\n",
      "\n",
      "['Life Made WI-Fi Touchscreen Photo Frame', '1.9', '19', '3.0M', '1,000+', 'Free', '0', 'Everyone', '', 'February 11, 2018', '1.0.19', '4.0 and up']\n"
     ]
    }
   ],
   "source": [
    "print(google_header)\n",
    "print('\\n')\n",
    "print(google_apps_data[10472])"
   ]
  },
  {
   "cell_type": "markdown",
   "metadata": {},
   "source": [
    "As we can tell from the output above there is an error in 'Rating' (Overall user rating of the app (as when scraped)) which is the third column (index=2). The rating only goes from 0 to five so 19 is not a possible value"
   ]
  },
  {
   "cell_type": "code",
   "execution_count": 496,
   "metadata": {},
   "outputs": [],
   "source": [
    "del(google_apps_data[10472])"
   ]
  },
  {
   "cell_type": "markdown",
   "metadata": {},
   "source": [
    "Now we have to delete any duplicate apps that show up in either of the two data sets. Below is an example of a duplication of the app Slack."
   ]
  },
  {
   "cell_type": "code",
   "execution_count": 497,
   "metadata": {},
   "outputs": [
    {
     "name": "stdout",
     "output_type": "stream",
     "text": [
      "['App', 'Category', 'Rating', 'Reviews', 'Size', 'Installs', 'Type', 'Price', 'Content Rating', 'Genres', 'Last Updated', 'Current Ver', 'Android Ver']\n",
      "\n",
      "\n",
      "['Slack', 'BUSINESS', '4.4', '51507', 'Varies with device', '5,000,000+', 'Free', '0', 'Everyone', 'Business', 'August 2, 2018', 'Varies with device', 'Varies with device']\n",
      "['Slack', 'BUSINESS', '4.4', '51507', 'Varies with device', '5,000,000+', 'Free', '0', 'Everyone', 'Business', 'August 2, 2018', 'Varies with device', 'Varies with device']\n",
      "['Slack', 'BUSINESS', '4.4', '51510', 'Varies with device', '5,000,000+', 'Free', '0', 'Everyone', 'Business', 'August 2, 2018', 'Varies with device', 'Varies with device']\n"
     ]
    }
   ],
   "source": [
    "print(google_header)\n",
    "print('\\n')\n",
    "for app in google_apps_data:\n",
    "    name = app[0]\n",
    "    if name == 'Slack':\n",
    "        print(app)"
   ]
  },
  {
   "cell_type": "markdown",
   "metadata": {},
   "source": [
    "The differences between the three instances of the Slack app are in the fourth column in the 'Reviews' column. The amount of reviews in the first two instances are lower than in the last. We should delete the copies that are of the lowest value in Reviews as the represent outdated data. Before we do that we should count the amount of duplicates. Thus the expected number of deletions will be the number of duplicates, and the number of rows after the deletions should be the number of unique apps."
   ]
  },
  {
   "cell_type": "code",
   "execution_count": 498,
   "metadata": {},
   "outputs": [
    {
     "name": "stdout",
     "output_type": "stream",
     "text": [
      "Number of duplicate apps in given data set is:  1181\n",
      "Number of unique apps in given data set is:  9659\n"
     ]
    }
   ],
   "source": [
    "'''\n",
    "Takes in a dataset and the index of the 'name' column. Iterates through the rows of the table and counts instances \n",
    "of duplicate entries. Prints the number of non-unique entries followed by the number of unique apps.\n",
    "'''\n",
    "\n",
    "def count_duplicates(dataset, name_index):\n",
    "    unique_apps = []\n",
    "    duplicate_apps = []\n",
    "    \n",
    "    #count the number of duplicates\n",
    "    for app in dataset:\n",
    "        name = app[name_index]\n",
    "        if name not in unique_apps:\n",
    "            unique_apps.append(name)\n",
    "        else:\n",
    "            duplicate_apps.append(name)\n",
    "    print('Number of duplicate apps in given data set is: ', len(duplicate_apps))\n",
    "    print('Number of unique apps in given data set is: ', len(unique_apps))\n",
    "    \n",
    "#call for google_apps_data\n",
    "count_duplicates(google_apps_data,0)"
   ]
  },
  {
   "cell_type": "markdown",
   "metadata": {},
   "source": [
    "Below is a function that will enable us to delete duplicates from any data set in a list of lists format that has a difference in reviews. "
   ]
  },
  {
   "cell_type": "code",
   "execution_count": 499,
   "metadata": {},
   "outputs": [
    {
     "data": {
      "text/plain": [
       "9659"
      ]
     },
     "execution_count": 499,
     "metadata": {},
     "output_type": "execute_result"
    }
   ],
   "source": [
    "'''\n",
    "A function that takes a dataset with the header removed in a list of lists format as an input, and the index \n",
    "value of the column labeled 'Reviews'. It iterates through adding the duplicate apps to a dictionary with the \n",
    "name of the app as a key and the corresponding review count as a value, then it deletes duplicate entries \n",
    "that have a lower amount of reviews\n",
    "'''\n",
    "def delete_duplicates(dataset, name_index=0, reviews_index=3):\n",
    "    dataset_clean = []\n",
    "    already_added = []\n",
    "    reviews_max = {}\n",
    "    \n",
    "    #Create a dictionary of the apps as a key paired with the maximum number of reviews as a value\n",
    "    for app in dataset:\n",
    "        name = app[name_index]\n",
    "        number_reviews = float(app[reviews_index])\n",
    "        if name not in reviews_max:\n",
    "            reviews_max[name] = number_reviews\n",
    "        elif name in reviews_max and reviews_max[name] < number_reviews:\n",
    "            reviews_max[name] = number_reviews\n",
    "            \n",
    "    #Now loop through and select the apps that need to be deleted       \n",
    "    for app in dataset:\n",
    "        name = app[name_index]\n",
    "        number_reviews = float(app[reviews_index])\n",
    "        \n",
    "        #You need the and condition to prevent ties of number of reviews from causing duplicates to remain\n",
    "        if (reviews_max[name] == number_reviews) and (name not in already_added):\n",
    "            dataset_clean.append(app)\n",
    "            already_added.append(name)\n",
    "    return dataset_clean\n",
    "\n",
    "#set the google_apps_data to the cleaned data\n",
    "google_apps_data_clean = delete_duplicates(google_apps_data)\n",
    "len(google_apps_data_clean)"
   ]
  },
  {
   "cell_type": "markdown",
   "metadata": {},
   "source": [
    "### Removing non-English apps\n",
    "Since we want to look at only apps directed toward an English-speaking audience we should remove any apps that are not made of [ASCII](https://en.wikipedia.org/wiki/ASCII) characters not in the range 0, to 127. This is the range of numerical indexes of all characters that belong to the common English language character set. We will perform this task using a function and applying it to our datasets.  "
   ]
  },
  {
   "cell_type": "code",
   "execution_count": 500,
   "metadata": {},
   "outputs": [
    {
     "name": "stdout",
     "output_type": "stream",
     "text": [
      "AliExpress Shopping App\n",
      "Idle Armies\n",
      "中国語 AQリスニング\n",
      "لعبة تقدر تربح DZ\n"
     ]
    }
   ],
   "source": [
    "print(ios_apps_data[813][1])\n",
    "print(ios_apps_data[6731][1])\n",
    "\n",
    "print(google_apps_data_clean[4412][0])\n",
    "print(google_apps_data_clean[7940][0])"
   ]
  },
  {
   "cell_type": "code",
   "execution_count": 501,
   "metadata": {},
   "outputs": [
    {
     "data": {
      "text/plain": [
       "[True, False, True, True]"
      ]
     },
     "execution_count": 501,
     "metadata": {},
     "output_type": "execute_result"
    }
   ],
   "source": [
    "#Will return true if input string is made up of characters only from the English language and false otherwise\n",
    "def is_english(name):\n",
    "    non_ASCII_count = 0\n",
    "    \n",
    "    #iterate through the characters of the string\n",
    "    for char in name:\n",
    "        if ord(char) > 127:\n",
    "            non_ASCII_count += 1\n",
    "            \n",
    "    #3 was chosen since ord(😜) is>127 and we want to minimize the amount of apps that get deleted\n",
    "    if non_ASCII_count > 3:\n",
    "        return False\n",
    "    else:\n",
    "        return True\n",
    "\n",
    "app_list = ['Instagram', '爱奇艺PPS -《欢乐颂2》电视剧热播', 'Docs To Go™ Free Office Suite', 'Instachat 😜']\n",
    "english_test_list = list((map(is_english, test_list)))\n",
    "english_test_list"
   ]
  },
  {
   "cell_type": "code",
   "execution_count": 502,
   "metadata": {},
   "outputs": [
    {
     "name": "stdout",
     "output_type": "stream",
     "text": [
      "9614\n",
      "6183\n"
     ]
    }
   ],
   "source": [
    "#Now lets loops through both of our data sets with the new function we wrote and delete non-english apps\n",
    "google_english = []\n",
    "ios_english = []\n",
    "\n",
    "for row in google_apps_data_clean:    \n",
    "    name = row[0]\n",
    "    \n",
    "    if is_english(name):\n",
    "        google_english.append(row)   \n",
    "\n",
    "for row in ios_apps_data:\n",
    "    #different index corresponds to name for ios\n",
    "    name = row[1]\n",
    "    \n",
    "    if is_english(name):\n",
    "        ios_english.append(row) \n",
    "\n",
    "print(len(google_english))\n",
    "print(len(ios_english))\n"
   ]
  },
  {
   "cell_type": "markdown",
   "metadata": {},
   "source": [
    "Our business model in this project is built around the ad-revenue from free apps. Hence, now we want to remove the non-free apps to isolate the free apps for our analysis."
   ]
  },
  {
   "cell_type": "code",
   "execution_count": 503,
   "metadata": {},
   "outputs": [
    {
     "name": "stdout",
     "output_type": "stream",
     "text": [
      "8864\n",
      "3222\n"
     ]
    }
   ],
   "source": [
    "free_google_apps = []\n",
    "free_ios_apps = []\n",
    "\n",
    "for app in google_english:\n",
    "    if app[7] == '0':\n",
    "        free_google_apps.append(app)\n",
    "for app in ios_english:\n",
    "    if app[4] == '0':\n",
    "        free_ios_apps.append(app)\n",
    "\n",
    "print(len(free_google_apps))\n",
    "print(len(free_ios_apps))"
   ]
  },
  {
   "cell_type": "markdown",
   "metadata": {},
   "source": [
    "### Identifying Genres\n",
    "Our validation strategy for an application will be to construct a minimal version of an application, add it to the Google Play store, then if it is profitable after six months we will construction an iOS version and add it to the App Store. For this purpose we will first construct frequency tables to identify common genres. The index of 'prime_genre' for iOS apps is 11, and for google apps it is called 'Genres' with index 9, but there is also a 'Category' column with similar data that has an index of 1."
   ]
  },
  {
   "cell_type": "code",
   "execution_count": 504,
   "metadata": {},
   "outputs": [],
   "source": [
    "#Takes a dataset as a list of lists without a header and an index, and then returns a frequency table\n",
    "def freq_table(dataset, index):\n",
    "    genre_counts = {}\n",
    "    count = 0\n",
    "    \n",
    "    #iterate through and create a dictionary of counts of genres\n",
    "    for row in dataset:\n",
    "        genre = row[index]\n",
    "        count += 1\n",
    "        if genre in genre_counts:\n",
    "            genre_counts[genre] += 1 \n",
    "        else:\n",
    "            genre_counts[genre] = 1\n",
    "    \n",
    "    freq = {}\n",
    "    #create a frequency table with percentages for each genre\n",
    "    for genre in genre_counts:\n",
    "        freq[genre] = 100*(genre_counts[genre])/(count)\n",
    "    return freq\n",
    "\n",
    "#Function for displaying a dataset as a sorted key-value tuple list\n",
    "def display_table(dataset, index):\n",
    "    table = freq_table(dataset, index)\n",
    "    table_display = []\n",
    "    for key in table:\n",
    "        key_val_as_tuple = (table[key], key)\n",
    "        table_display.append(key_val_as_tuple)\n",
    "\n",
    "    table_sorted = sorted(table_display, reverse = True)\n",
    "    for entry in table_sorted:\n",
    "        print(entry[1], ':', entry[0])"
   ]
  },
  {
   "cell_type": "code",
   "execution_count": 505,
   "metadata": {},
   "outputs": [
    {
     "name": "stdout",
     "output_type": "stream",
     "text": [
      "free iOS app Genre Frequencies\n",
      "Games : 58.16263190564867\n",
      "Entertainment : 7.883302296710118\n",
      "Photo & Video : 4.9658597144630665\n",
      "Education : 3.6623215394165114\n",
      "Social Networking : 3.2898820608317814\n",
      "Shopping : 2.60707635009311\n",
      "Utilities : 2.5139664804469275\n",
      "Sports : 2.1415270018621975\n",
      "Music : 2.0484171322160147\n",
      "Health & Fitness : 2.017380509000621\n",
      "Productivity : 1.7380509000620732\n",
      "Lifestyle : 1.5828677839851024\n",
      "News : 1.3345747982619491\n",
      "Travel : 1.2414649286157666\n",
      "Finance : 1.1173184357541899\n",
      "Weather : 0.8690254500310366\n",
      "Food & Drink : 0.8069522036002483\n",
      "Reference : 0.5586592178770949\n",
      "Business : 0.5276225946617008\n",
      "Book : 0.4345127250155183\n",
      "Navigation : 0.186219739292365\n",
      "Medical : 0.186219739292365\n",
      "Catalogs : 0.12414649286157665\n",
      "\n",
      "\n",
      "free Google app Category Frequencies\n",
      "FAMILY : 18.907942238267147\n",
      "GAME : 9.724729241877256\n",
      "TOOLS : 8.461191335740072\n",
      "BUSINESS : 4.591606498194946\n",
      "LIFESTYLE : 3.9034296028880866\n",
      "PRODUCTIVITY : 3.892148014440433\n",
      "FINANCE : 3.700361010830325\n",
      "MEDICAL : 3.5311371841155235\n",
      "SPORTS : 3.395758122743682\n",
      "PERSONALIZATION : 3.3167870036101084\n",
      "COMMUNICATION : 3.237815884476534\n",
      "HEALTH_AND_FITNESS : 3.079873646209386\n",
      "PHOTOGRAPHY : 2.9444945848375452\n",
      "NEWS_AND_MAGAZINES : 2.7978339350180503\n",
      "SOCIAL : 2.6624548736462095\n",
      "TRAVEL_AND_LOCAL : 2.33528880866426\n",
      "SHOPPING : 2.2450361010830324\n",
      "BOOKS_AND_REFERENCE : 2.1435018050541514\n",
      "DATING : 1.861462093862816\n",
      "VIDEO_PLAYERS : 1.7937725631768953\n",
      "MAPS_AND_NAVIGATION : 1.3989169675090252\n",
      "FOOD_AND_DRINK : 1.2409747292418774\n",
      "EDUCATION : 1.1620036101083033\n",
      "ENTERTAINMENT : 0.9589350180505415\n",
      "LIBRARIES_AND_DEMO : 0.9363718411552346\n",
      "AUTO_AND_VEHICLES : 0.9250902527075813\n",
      "HOUSE_AND_HOME : 0.8235559566787004\n",
      "WEATHER : 0.8009927797833934\n",
      "EVENTS : 0.7107400722021661\n",
      "PARENTING : 0.6543321299638989\n",
      "ART_AND_DESIGN : 0.6430505415162455\n",
      "COMICS : 0.6204873646209387\n",
      "BEAUTY : 0.5979241877256317\n",
      "\n",
      "\n",
      "free Google app Genre Frequencies\n",
      "Tools : 8.449909747292418\n",
      "Entertainment : 6.069494584837545\n",
      "Education : 5.347472924187725\n",
      "Business : 4.591606498194946\n",
      "Productivity : 3.892148014440433\n",
      "Lifestyle : 3.892148014440433\n",
      "Finance : 3.700361010830325\n",
      "Medical : 3.5311371841155235\n",
      "Sports : 3.463447653429603\n",
      "Personalization : 3.3167870036101084\n",
      "Communication : 3.237815884476534\n",
      "Action : 3.1024368231046933\n",
      "Health & Fitness : 3.079873646209386\n",
      "Photography : 2.9444945848375452\n",
      "News & Magazines : 2.7978339350180503\n",
      "Social : 2.6624548736462095\n",
      "Travel & Local : 2.3240072202166067\n",
      "Shopping : 2.2450361010830324\n",
      "Books & Reference : 2.1435018050541514\n",
      "Simulation : 2.041967509025271\n",
      "Dating : 1.861462093862816\n",
      "Arcade : 1.8501805054151625\n",
      "Video Players & Editors : 1.7712093862815885\n",
      "Casual : 1.759927797833935\n",
      "Maps & Navigation : 1.3989169675090252\n",
      "Food & Drink : 1.2409747292418774\n",
      "Puzzle : 1.128158844765343\n",
      "Racing : 0.9927797833935018\n",
      "Role Playing : 0.9363718411552346\n",
      "Libraries & Demo : 0.9363718411552346\n",
      "Auto & Vehicles : 0.9250902527075813\n",
      "Strategy : 0.9138086642599278\n",
      "House & Home : 0.8235559566787004\n",
      "Weather : 0.8009927797833934\n",
      "Events : 0.7107400722021661\n",
      "Adventure : 0.6768953068592057\n",
      "Comics : 0.6092057761732852\n",
      "Beauty : 0.5979241877256317\n",
      "Art & Design : 0.5979241877256317\n",
      "Parenting : 0.4963898916967509\n",
      "Card : 0.45126353790613716\n",
      "Casino : 0.4287003610108303\n",
      "Trivia : 0.4174187725631769\n",
      "Educational;Education : 0.39485559566787004\n",
      "Board : 0.3835740072202166\n",
      "Educational : 0.3722924187725632\n",
      "Education;Education : 0.33844765342960287\n",
      "Word : 0.2594765342960289\n",
      "Casual;Pretend Play : 0.23691335740072203\n",
      "Music : 0.20306859205776173\n",
      "Racing;Action & Adventure : 0.16922382671480143\n",
      "Puzzle;Brain Games : 0.16922382671480143\n",
      "Entertainment;Music & Video : 0.16922382671480143\n",
      "Casual;Brain Games : 0.13537906137184116\n",
      "Casual;Action & Adventure : 0.13537906137184116\n",
      "Arcade;Action & Adventure : 0.12409747292418773\n",
      "Action;Action & Adventure : 0.10153429602888087\n",
      "Educational;Pretend Play : 0.09025270758122744\n",
      "Simulation;Action & Adventure : 0.078971119133574\n",
      "Parenting;Education : 0.078971119133574\n",
      "Entertainment;Brain Games : 0.078971119133574\n",
      "Board;Brain Games : 0.078971119133574\n",
      "Parenting;Music & Video : 0.06768953068592058\n",
      "Educational;Brain Games : 0.06768953068592058\n",
      "Casual;Creativity : 0.06768953068592058\n",
      "Art & Design;Creativity : 0.06768953068592058\n",
      "Education;Pretend Play : 0.056407942238267145\n",
      "Role Playing;Pretend Play : 0.04512635379061372\n",
      "Education;Creativity : 0.04512635379061372\n",
      "Role Playing;Action & Adventure : 0.03384476534296029\n",
      "Puzzle;Action & Adventure : 0.03384476534296029\n",
      "Entertainment;Creativity : 0.03384476534296029\n",
      "Entertainment;Action & Adventure : 0.03384476534296029\n",
      "Educational;Creativity : 0.03384476534296029\n",
      "Educational;Action & Adventure : 0.03384476534296029\n",
      "Education;Music & Video : 0.03384476534296029\n",
      "Education;Brain Games : 0.03384476534296029\n",
      "Education;Action & Adventure : 0.03384476534296029\n",
      "Adventure;Action & Adventure : 0.03384476534296029\n",
      "Video Players & Editors;Music & Video : 0.02256317689530686\n",
      "Sports;Action & Adventure : 0.02256317689530686\n",
      "Simulation;Pretend Play : 0.02256317689530686\n",
      "Puzzle;Creativity : 0.02256317689530686\n",
      "Music;Music & Video : 0.02256317689530686\n",
      "Entertainment;Pretend Play : 0.02256317689530686\n",
      "Casual;Education : 0.02256317689530686\n",
      "Board;Action & Adventure : 0.02256317689530686\n",
      "Video Players & Editors;Creativity : 0.01128158844765343\n",
      "Trivia;Education : 0.01128158844765343\n",
      "Travel & Local;Action & Adventure : 0.01128158844765343\n",
      "Tools;Education : 0.01128158844765343\n",
      "Strategy;Education : 0.01128158844765343\n",
      "Strategy;Creativity : 0.01128158844765343\n",
      "Strategy;Action & Adventure : 0.01128158844765343\n",
      "Simulation;Education : 0.01128158844765343\n",
      "Role Playing;Brain Games : 0.01128158844765343\n",
      "Racing;Pretend Play : 0.01128158844765343\n",
      "Puzzle;Education : 0.01128158844765343\n",
      "Parenting;Brain Games : 0.01128158844765343\n",
      "Music & Audio;Music & Video : 0.01128158844765343\n",
      "Lifestyle;Pretend Play : 0.01128158844765343\n",
      "Lifestyle;Education : 0.01128158844765343\n",
      "Health & Fitness;Education : 0.01128158844765343\n",
      "Health & Fitness;Action & Adventure : 0.01128158844765343\n",
      "Entertainment;Education : 0.01128158844765343\n",
      "Communication;Creativity : 0.01128158844765343\n",
      "Comics;Creativity : 0.01128158844765343\n",
      "Casual;Music & Video : 0.01128158844765343\n",
      "Card;Action & Adventure : 0.01128158844765343\n",
      "Books & Reference;Education : 0.01128158844765343\n",
      "Art & Design;Pretend Play : 0.01128158844765343\n",
      "Art & Design;Action & Adventure : 0.01128158844765343\n",
      "Arcade;Pretend Play : 0.01128158844765343\n",
      "Adventure;Education : 0.01128158844765343\n"
     ]
    }
   ],
   "source": [
    "print('free iOS app Genre Frequencies')\n",
    "display_table(free_ios_apps, 11)\n",
    "print('\\n')\n",
    "print('free Google app Category Frequencies')\n",
    "display_table(free_google_apps, 1)\n",
    "print('\\n')\n",
    "print('free Google app Genre Frequencies')\n",
    "display_table(free_google_apps, 9)"
   ]
  },
  {
   "cell_type": "markdown",
   "metadata": {},
   "source": [
    "For the iOS app store the most common free app genre is games with a commanding $54.86\\%$. This is the strong majority, with the runner-up being Entertainment at $7.2\\%$. In general it appears that there are more apps created for the purpose of entertainment rather than education or productivity. This doesn't necissarrily mean that these apps are less frequently used, just that there are more apps created that try to be 'fun'. It also makes sense that there would be numerous free game apps due to the very successful mobile [fremium](https://themanifest.com/app-development/app-monetization-using-freemium-business-model) model that works well for games. Additionally users are more likely to get bored playing the same game and want to switch.\n",
    "\n",
    "For the google free apps sorted by categories it appears that the spread is much more even with Family having $19.33\\%$, Game with $9.82\\%$ and Tools with $8.61\\%$, then there is a drop off where the next categories are all at between $4\\%-2 \\%$ In general it appears that there are less 'fun' apps and that the spread of free apps is more evenly distributed. However if we examine the Family category we will notice that there are many games designed for kids such as [Roblox](https://www.roblox.com/) and so the actual frequency of free game apps is closer to $30\\%$.\n",
    "\n",
    "For the google free apps sorted by genres the formerly dominant Games genre has dissappeared; however, if we take a closer look we'll notice that this is because it has been broken up into each category of game such as 'Action' $3.11\\%$ or Arcade $1.91\\%$. That is the major difference with the rest of the table having similar percentages to the frequency table sorted by categories. "
   ]
  },
  {
   "cell_type": "markdown",
   "metadata": {},
   "source": [
    "# Most Popular Genres of Free Apps\n",
    "To figure out which genres of free apps are the most popular we can look at the number of installs, but for the iOS dataset this information is missing so we will use a workaround and take the number of user ratings as a proxy. The index of the total rating count is 4."
   ]
  },
  {
   "cell_type": "code",
   "execution_count": 539,
   "metadata": {},
   "outputs": [
    {
     "name": "stdout",
     "output_type": "stream",
     "text": [
      "The Productivity genre has roughly: 21028 average users per app.\n",
      "The Weather genre has roughly: 52279 average users per app.\n",
      "The Shopping genre has roughly: 26919 average users per app.\n",
      "The Reference genre has roughly: 74942 average users per app.\n",
      "The Finance genre has roughly: 31467 average users per app.\n",
      "The Music genre has roughly: 57326 average users per app.\n",
      "The Utilities genre has roughly: 18684 average users per app.\n",
      "The Travel genre has roughly: 28243 average users per app.\n",
      "The Social Networking genre has roughly: 71548 average users per app.\n",
      "The Sports genre has roughly: 23008 average users per app.\n",
      "The Health & Fitness genre has roughly: 23298 average users per app.\n",
      "The Games genre has roughly: 22788 average users per app.\n",
      "The Food & Drink genre has roughly: 33333 average users per app.\n",
      "The News genre has roughly: 21248 average users per app.\n",
      "The Book genre has roughly: 39758 average users per app.\n",
      "The Photo & Video genre has roughly: 28441 average users per app.\n",
      "The Entertainment genre has roughly: 14029 average users per app.\n",
      "The Business genre has roughly: 7491 average users per app.\n",
      "The Lifestyle genre has roughly: 16485 average users per app.\n",
      "The Education genre has roughly: 7003 average users per app.\n",
      "The Navigation genre has roughly: 86090 average users per app.\n",
      "The Medical genre has roughly: 612 average users per app.\n",
      "The Catalogs genre has roughly: 4004 average users per app.\n"
     ]
    }
   ],
   "source": [
    "#iterate over the prime_genre column and create a frequency table\n",
    "ios_freq = freq_table(free_ios_apps, 11)\n",
    "\n",
    "for genre in ios_freq:\n",
    "    #number of user ratings\n",
    "    total = 0\n",
    "    #number of apps specific to a genre\n",
    "    len_genre = 0\n",
    "    for row in free_ios_apps:\n",
    "        genre_app = row[11]\n",
    "        if genre_app == genre:\n",
    "            ratings = float(row[5])\n",
    "            total += ratings\n",
    "            len_genre += 1\n",
    "    average_num_users = total/len_genre\n",
    "    print('The ' + str(genre) +' genre has roughly: ' + \n",
    "          str(int(average_num_users)) + ' average users per app.')\n"
   ]
  },
  {
   "cell_type": "markdown",
   "metadata": {},
   "source": [
    "It looks like the Navigation genre has the most active users, but perhaps a better use of an advertisement campaing would be the number two most actively used as the Social networking genre. Users are actively engaged with their screens while using this type of application and are more likely to view adds without simply ignoring them. Upon closer inspection we realize that this is not as good of an idea as it may seem at first."
   ]
  },
  {
   "cell_type": "code",
   "execution_count": 507,
   "metadata": {},
   "outputs": [
    {
     "name": "stdout",
     "output_type": "stream",
     "text": [
      "Facebook : 2974676\n",
      "LinkedIn : 71856\n",
      "Skype for iPhone : 373519\n",
      "Tumblr : 334293\n",
      "Match™ - #1 Dating App. : 60659\n",
      "WhatsApp Messenger : 287589\n",
      "TextNow - Unlimited Text + Calls : 164963\n",
      "Grindr - Gay and same sex guys chat, meet and date : 23201\n",
      "imo video calls and chat : 18841\n",
      "Ameba : 269\n",
      "Weibo : 7265\n",
      "Badoo - Meet New People, Chat, Socialize. : 34428\n",
      "Kik : 260965\n",
      "Qzone : 1649\n",
      "Fake-A-Location Free ™ : 354\n",
      "Tango - Free Video Call, Voice and Chat : 75412\n",
      "MeetMe - Chat and Meet New People : 97072\n",
      "SimSimi : 23530\n",
      "Viber Messenger – Text & Call : 164249\n",
      "Find My Family, Friends & iPhone - Life360 Locator : 43877\n",
      "Weibo HD : 16772\n",
      "POF - Best Dating App for Conversations : 52642\n",
      "GroupMe : 28260\n",
      "Lobi : 36\n",
      "WeChat : 34584\n",
      "ooVoo – Free Video Call, Text and Voice : 177501\n",
      "Pinterest : 1061624\n",
      "知乎 : 397\n",
      "Qzone HD : 458\n",
      "Skype for iPad : 60163\n",
      "LINE : 11437\n",
      "QQ : 9109\n",
      "LOVOO - Dating Chat : 1985\n",
      "QQ HD : 5058\n",
      "Messenger : 351466\n",
      "eHarmony™ Dating App - Meet Singles : 11124\n",
      "YouNow: Live Stream Video Chat : 12079\n",
      "Cougar Dating & Life Style App for Mature Women : 213\n",
      "Battlefield™ Companion : 689\n",
      "Whisper - Share, Express, Meet : 39819\n",
      "We Heart It - Fashion, wallpapers, quotes, tattoos : 90414\n",
      "Followers - Social Analytics For Instagram : 112778\n",
      "InsTrack for Instagram - Analytics Plus More : 85535\n",
      "Followers + for Instagram - Follower Analytics : 28633\n",
      "Timehop : 49510\n",
      "Repost for Instagram : 15185\n",
      "LINE PLAY - Your Avatar World : 34677\n",
      "Nextdoor : 14402\n",
      "Hangouts : 36404\n",
      "FollowMeter for Instagram - Followers Tracking : 11976\n",
      "Telegram Messenger : 7573\n",
      "Chatous - Chat with new people : 1609\n",
      "QQ International : 274\n",
      "FireChat : 1037\n",
      "Jodel : 1193\n",
      "Wishbone - Compare Anything : 20649\n",
      "Zenly - Locate your friends in realtime : 427\n",
      "Tantan : 235\n",
      "Flinch - Video Chat Staring Contest : 2134\n",
      "botman - Real time video chat : 7\n",
      "豆瓣 : 407\n",
      "Marco Polo Video Walkie Talkie : 27662\n",
      "After School - Funny Anonymous School News : 18482\n",
      "Highrise - Your Avatar Community : 2011\n",
      "Quick Reposter - Repost, Regram and Reshare Photos : 17694\n",
      "Kiwi - Q&A : 1538\n",
      "Periscope - Live Video Streaming Around the World : 6062\n",
      "Inke—Broadcast an amazing life : 147\n",
      "Discord - Chat for Gamers : 9152\n",
      "Candid - Speak Your Mind Freely : 398\n",
      "Down To Lunch : 2535\n",
      "SOMA Messenger : 3232\n",
      "Rawr Messenger - Dab your chat : 180\n",
      "Popcorn Buzz - Free Group Calls : 281\n",
      "Chain: Collaborate On MyVideo Story/Group Video : 35\n",
      "BestieBox : 0\n",
      "Selfeo : 366\n",
      "Followers Analysis Tool For Instagram App Free : 4253\n",
      "Hey! VINA - Where Women Meet New Friends : 719\n",
      "PlayStation®Messages : 1918\n",
      "WhenToPost: Best Time to Post Photos for Instagram : 158\n",
      "MATCH ON LINE chat : 0\n",
      "Fiesta by Tango - Chat & Meet New People : 885\n",
      "Houseparty - Group Video Chat : 3991\n",
      "All Devices for WhatsApp - Messenger for iPad : 682\n",
      "Peach — share vividly : 727\n",
      "bit-tube - Live Stream Video Chat : 0\n",
      "Miitomo : 23965\n",
      "SoundCloud Pulse: for creators : 240\n",
      "IAmNaughty – Dating App to Meet New People Online : 463\n",
      "League of Legends Friends : 420\n",
      "GhostCodes - a discovery app for Snapchat : 1313\n",
      "live.ly - live video streaming : 4145\n",
      "Live.me – Live Video Chat & Make Friends Nearby : 14724\n",
      "BOO! - Video chat camera with filters & stickers : 1805\n",
      "Google Allo — smart messaging : 862\n",
      "Google Duo - simple video calling : 1033\n",
      "Chat for Whatsapp - iPad Version : 5060\n",
      "Chat for Pokemon Go - GoChat : 500\n",
      "niconico ch : 0\n",
      "Followers Analytics for Instagram - InstaReport : 13914\n",
      "Monkey : 3060\n",
      "LINE BLOG : 0\n",
      "Mustknow - anonymous video Q&A : 53\n",
      "CTFxCmoji : 39\n",
      "Fam — Group video calling for iMessage : 279\n"
     ]
    }
   ],
   "source": [
    "for app in free_ios_apps:\n",
    "    genre = app[11]\n",
    "    name = app[1]\n",
    "    users = app[5]\n",
    "    \n",
    "    if genre == 'Social Networking':\n",
    "        print(name, ':', users)"
   ]
  },
  {
   "cell_type": "markdown",
   "metadata": {},
   "source": [
    "It appears that the average count of the apps in the social networking genre is a bit deceiving. There are a substantial number of apps that are in the marketplace, yet the vast majority do not have over 10,000 user ratings (which we are using as a proxy of total users). The weather genre is unlikely going to have users using it for an extended period of time, and users who are reading a book will be unlikely to want a product that contains adverstisements. A possible option is the Travel genre."
   ]
  },
  {
   "cell_type": "code",
   "execution_count": 508,
   "metadata": {},
   "outputs": [
    {
     "name": "stdout",
     "output_type": "stream",
     "text": [
      "TripAdvisor Hotels Flights Restaurants : 56194\n",
      "Yelp - Nearby Restaurants, Shopping & Services : 223885\n",
      "Google Earth : 446185\n",
      "Trainline UK: Live Train Times, Tickets & Planner : 248\n",
      "BlaBlaCar - Trusted Carpooling : 397\n",
      "DB Navigator : 512\n",
      "Voyages-sncf.com : book train and bus tickets : 268\n",
      "Southwest Airlines : 30552\n",
      "Hotels & Vacation Rentals by Booking.com : 31261\n",
      "Uber : 49466\n",
      "Fly Delta : 8094\n",
      "Airbnb : 22302\n",
      "iExit Interstate Exit Guide : 1798\n",
      "GasBuddy : 145549\n",
      "HotelTonight - Great Deals on Last Minute Hotels : 32341\n",
      "Expedia Hotels, Flights & Vacation Package Deals : 10278\n",
      "Viator Tours & Activities : 1839\n",
      "United Airlines : 5748\n",
      "飞猪 : 154\n",
      "HISTORY Here : 685\n",
      "Ryanair - Cheapest Fares : 175\n",
      "Lyft : 46922\n",
      "铁路12306 : 177\n",
      "Urlaubspiraten : 188\n",
      "VoiceTra(Voice Translator) : 0\n",
      "Ab in den Urlaub – Pauschalreisen günstig buchen : 22\n",
      "Fluege.de - Finde den billigsten Flug : 0\n",
      "MiFlight™ – Airport security line wait times at checkpoints for domestic and international travelers : 493\n",
      "FlixBus - bus travel in Europe : 92\n",
      "Skiplagged — Actually Cheap Flights & Hotels : 1851\n",
      "Webcams – EarthCam : 912\n",
      "Hopper - Predict, Watch & Book Flights : 6944\n",
      "Google Street View : 1450\n",
      "SNCF : 7\n",
      "Fleet Air Travel Guide & Airport Directory : 105\n",
      "Six Flags : 353\n",
      "skyticket - Reserve Best Valued Air Tickets : 0\n",
      "Gogo Entertainment : 1482\n",
      "Mobike - Dockless Bike Share : 494\n",
      "Google Trips – Travel planner : 329\n"
     ]
    }
   ],
   "source": [
    "for app in free_ios_apps:\n",
    "    name = app[1]\n",
    "    genre = app[11]\n",
    "    users = app[5]\n",
    "    if genre == 'Travel':\n",
    "        print(name, ':', users)"
   ]
  },
  {
   "cell_type": "markdown",
   "metadata": {},
   "source": [
    "Perhaps an app that could potentially be succesful is a historical guide that focuses on museums, national parks, and places of cultural importance. It could bring in add revenue from restaurants, tourism sectors while providing users with historical summaries of a locale. There currently only the app History Here which likely has some summaries but no interaction with other organizations. Now we will look at the most popular apps by genre on Google Play."
   ]
  },
  {
   "cell_type": "code",
   "execution_count": 509,
   "metadata": {},
   "outputs": [
    {
     "name": "stdout",
     "output_type": "stream",
     "text": [
      "1,000,000+ : 15.72653429602888\n",
      "100,000+ : 11.552346570397113\n",
      "10,000,000+ : 10.548285198555957\n",
      "10,000+ : 10.1985559566787\n",
      "1,000+ : 8.393501805054152\n",
      "100+ : 6.915613718411552\n",
      "5,000,000+ : 6.825361010830325\n",
      "500,000+ : 5.561823104693141\n",
      "50,000+ : 4.772111913357401\n",
      "5,000+ : 4.512635379061372\n",
      "10+ : 3.542418772563177\n",
      "500+ : 3.2490974729241877\n",
      "50,000,000+ : 2.3014440433212995\n",
      "100,000,000+ : 2.1322202166064983\n",
      "50+ : 1.917870036101083\n",
      "5+ : 0.7897111913357401\n",
      "1+ : 0.5076714801444043\n",
      "500,000,000+ : 0.27075812274368233\n",
      "1,000,000,000+ : 0.22563176895306858\n",
      "0+ : 0.04512635379061372\n",
      "0 : 0.01128158844765343\n"
     ]
    }
   ],
   "source": [
    "display_table(free_google_apps, 5)"
   ]
  },
  {
   "cell_type": "markdown",
   "metadata": {},
   "source": [
    "From this printout from the table we can tell that the counts in the google app store are a categorical variable so we do not have the exact user counts. We will approximate this by lowballing the estimate for every single app e.g.: 100,000+ = 100,000 installs."
   ]
  },
  {
   "cell_type": "code",
   "execution_count": 516,
   "metadata": {},
   "outputs": [
    {
     "data": {
      "text/plain": [
       "{'ART_AND_DESIGN': 0.6430505415162455,\n",
       " 'AUTO_AND_VEHICLES': 0.9250902527075813,\n",
       " 'BEAUTY': 0.5979241877256317,\n",
       " 'BOOKS_AND_REFERENCE': 2.1435018050541514,\n",
       " 'BUSINESS': 4.591606498194946,\n",
       " 'COMICS': 0.6204873646209387,\n",
       " 'COMMUNICATION': 3.237815884476534,\n",
       " 'DATING': 1.861462093862816,\n",
       " 'EDUCATION': 1.1620036101083033,\n",
       " 'ENTERTAINMENT': 0.9589350180505415,\n",
       " 'EVENTS': 0.7107400722021661,\n",
       " 'FINANCE': 3.700361010830325,\n",
       " 'FOOD_AND_DRINK': 1.2409747292418774,\n",
       " 'HEALTH_AND_FITNESS': 3.079873646209386,\n",
       " 'HOUSE_AND_HOME': 0.8235559566787004,\n",
       " 'LIBRARIES_AND_DEMO': 0.9363718411552346,\n",
       " 'LIFESTYLE': 3.9034296028880866,\n",
       " 'GAME': 9.724729241877256,\n",
       " 'FAMILY': 18.907942238267147,\n",
       " 'MEDICAL': 3.5311371841155235,\n",
       " 'SOCIAL': 2.6624548736462095,\n",
       " 'SHOPPING': 2.2450361010830324,\n",
       " 'PHOTOGRAPHY': 2.9444945848375452,\n",
       " 'SPORTS': 3.395758122743682,\n",
       " 'TRAVEL_AND_LOCAL': 2.33528880866426,\n",
       " 'TOOLS': 8.461191335740072,\n",
       " 'PERSONALIZATION': 3.3167870036101084,\n",
       " 'PRODUCTIVITY': 3.892148014440433,\n",
       " 'PARENTING': 0.6543321299638989,\n",
       " 'WEATHER': 0.8009927797833934,\n",
       " 'VIDEO_PLAYERS': 1.7937725631768953,\n",
       " 'NEWS_AND_MAGAZINES': 2.7978339350180503,\n",
       " 'MAPS_AND_NAVIGATION': 1.3989169675090252}"
      ]
     },
     "execution_count": 516,
     "metadata": {},
     "output_type": "execute_result"
    }
   ],
   "source": [
    "#Create a google frequency table\n",
    "google_freq = freq_table(free_google_apps, 1)\n",
    "google_freq"
   ]
  },
  {
   "cell_type": "code",
   "execution_count": 538,
   "metadata": {},
   "outputs": [
    {
     "name": "stdout",
     "output_type": "stream",
     "text": [
      "The ART_AND_DESIGN category has roughly: 1986335 users on average per app.\n",
      "The AUTO_AND_VEHICLES category has roughly: 647318 users on average per app.\n",
      "The BEAUTY category has roughly: 513152 users on average per app.\n",
      "The BOOKS_AND_REFERENCE category has roughly: 8767812 users on average per app.\n",
      "The BUSINESS category has roughly: 1712290 users on average per app.\n",
      "The COMICS category has roughly: 817657 users on average per app.\n",
      "The COMMUNICATION category has roughly: 38456119 users on average per app.\n",
      "The DATING category has roughly: 854029 users on average per app.\n",
      "The EDUCATION category has roughly: 1833495 users on average per app.\n",
      "The ENTERTAINMENT category has roughly: 11640706 users on average per app.\n",
      "The EVENTS category has roughly: 253542 users on average per app.\n",
      "The FINANCE category has roughly: 1387692 users on average per app.\n",
      "The FOOD_AND_DRINK category has roughly: 1924898 users on average per app.\n",
      "The HEALTH_AND_FITNESS category has roughly: 4188822 users on average per app.\n",
      "The HOUSE_AND_HOME category has roughly: 1331541 users on average per app.\n",
      "The LIBRARIES_AND_DEMO category has roughly: 638504 users on average per app.\n",
      "The LIFESTYLE category has roughly: 1437816 users on average per app.\n",
      "The GAME category has roughly: 15588016 users on average per app.\n",
      "The FAMILY category has roughly: 3695642 users on average per app.\n",
      "The MEDICAL category has roughly: 120551 users on average per app.\n",
      "The SOCIAL category has roughly: 23253652 users on average per app.\n",
      "The SHOPPING category has roughly: 7036877 users on average per app.\n",
      "The PHOTOGRAPHY category has roughly: 17840110 users on average per app.\n",
      "The SPORTS category has roughly: 3638640 users on average per app.\n",
      "The TRAVEL_AND_LOCAL category has roughly: 13984078 users on average per app.\n",
      "The TOOLS category has roughly: 10801391 users on average per app.\n",
      "The PERSONALIZATION category has roughly: 5201483 users on average per app.\n",
      "The PRODUCTIVITY category has roughly: 16787331 users on average per app.\n",
      "The PARENTING category has roughly: 542604 users on average per app.\n",
      "The WEATHER category has roughly: 5074486 users on average per app.\n",
      "The VIDEO_PLAYERS category has roughly: 24727872 users on average per app.\n",
      "The NEWS_AND_MAGAZINES category has roughly: 9549178 users on average per app.\n",
      "The MAPS_AND_NAVIGATION category has roughly: 4056942 users on average per app.\n"
     ]
    }
   ],
   "source": [
    "#loop over the categories in google_english\n",
    "for category in google_freq:\n",
    "    #number of user ratings\n",
    "    total = 0\n",
    "    #number of apps specific to a genre\n",
    "    len_category = 0\n",
    "    \n",
    "    for app in free_google_apps:\n",
    "        category_app = app[1]\n",
    "        if category_app == category:\n",
    "            #make sure that there aren't any non integer values\n",
    "            installs_str = app[5].replace(',', '')\n",
    "            total += float(installs_str.replace('+',''))\n",
    "            #inrement the count of the number of apps in the category\n",
    "            len_category += 1\n",
    "    #summed total of users in category/number apps in category\n",
    "    average_num_users = total/len_category\n",
    "    print('The ' + str(category) +' category has roughly: ' + \n",
    "          str(int(round(average_num_users,0))) + ' users on average per app.')\n",
    "    \n",
    "    "
   ]
  },
  {
   "cell_type": "markdown",
   "metadata": {},
   "source": [
    "To build on our app idea from before lets explore the TRAVEL_AND_LOCAL category and only look at apps that have a large number of installs."
   ]
  },
  {
   "cell_type": "code",
   "execution_count": 544,
   "metadata": {},
   "outputs": [
    {
     "name": "stdout",
     "output_type": "stream",
     "text": [
      "trivago: Hotels & Travel : 50,000,000+\n",
      "Hopper - Watch & Book Flights : 5,000,000+\n",
      "TripIt: Travel Organizer : 1,000,000+\n",
      "CityMaps2Go Plan Trips Travel Guide Offline Maps : 1,000,000+\n",
      "KAYAK Flights, Hotels & Cars : 10,000,000+\n",
      "Hostelworld: Hostels & Cheap Hotels Travel App : 1,000,000+\n",
      "Google Trips - Travel Planner : 5,000,000+\n",
      "GPS Map Free : 5,000,000+\n",
      "GasBuddy: Find Cheap Gas : 10,000,000+\n",
      "Southwest Airlines : 5,000,000+\n",
      "AT&T Navigator: Maps, Traffic : 10,000,000+\n",
      "VZ Navigator : 50,000,000+\n",
      "KakaoMap - Map / Navigation : 10,000,000+\n",
      "AirAsia : 10,000,000+\n",
      "Expedia Hotels, Flights & Car Rental Travel Deals : 10,000,000+\n",
      "Goibibo - Flight Hotel Bus Car IRCTC Booking App : 10,000,000+\n",
      "Allegiant : 1,000,000+\n",
      "Amtrak : 1,000,000+\n",
      "JAL (Domestic and international flights) : 1,000,000+\n",
      "Flight & Hotel Booking App - ixigo : 5,000,000+\n",
      "Wisepilot for XPERIA™ : 5,000,000+\n",
      "VZ Navigator for Galaxy S4 : 5,000,000+\n",
      "MAIN : 1,000,000+\n",
      "Yoriza Pension - travel, lodging, pension, camping, caravan, pool villas accommodation discount : 1,000,000+\n",
      "Foursquare Swarm: Check In : 10,000,000+\n",
      "PagesJaunes - local search : 10,000,000+\n",
      "Flightradar24 Flight Tracker : 10,000,000+\n",
      "Yatra - Flights, Hotels, Bus, Trains & Cabs : 10,000,000+\n",
      "SNCF : 5,000,000+\n",
      "Fly Delta : 5,000,000+\n",
      "Skyscanner : 10,000,000+\n",
      "Despegar.com Hotels and Flights : 10,000,000+\n",
      "Navigation Plus : 1,000,000+\n",
      "2GIS: directory & navigator : 50,000,000+\n",
      "Poynt : 5,000,000+\n",
      "Gaode Map : 1,000,000+\n",
      "Priceline Hotel Deals, Rental Cars & Flights : 5,000,000+\n",
      "TravelPirates : 1,000,000+\n",
      "Free Radar Detector : 1,000,000+\n",
      "American Airlines : 5,000,000+\n",
      "Where to travel - ticket. hotel. train ticket. car ticket. travel. tickets : 1,000,000+\n",
      "United Airlines : 5,000,000+\n",
      "NTES : 10,000,000+\n",
      "Where is my Train : Indian Railway & PNR Status : 10,000,000+\n",
      "MakeMyTrip-Flight Hotel Bus Cab IRCTC Rail Booking : 10,000,000+\n",
      "Restaurant Finder : 1,000,000+\n",
      "Urbanspoon Restaurant Reviews : 5,000,000+\n",
      "Yelp: Food, Shopping, Services Nearby : 10,000,000+\n",
      "Qatar Airways : 1,000,000+\n",
      "Hipmunk Hotels & Flights : 1,000,000+\n",
      "Skiplagged — Exclusive Flights & Hotels : 1,000,000+\n",
      "British Airways : 1,000,000+\n",
      "Cheap Flights & Hotels momondo : 5,000,000+\n",
      "CheapTickets – Hotels, Flights & Travel Deals : 1,000,000+\n",
      "JetBlue : 1,000,000+\n",
      "Flights : 1,000,000+\n",
      "Cheapflights – Flight Search : 5,000,000+\n",
      "KLM - Royal Dutch Airlines : 1,000,000+\n",
      "Orbitz - Hotels, Flights & Package Deals : 1,000,000+\n",
      "Lufthansa : 1,000,000+\n",
      "easyJet: Travel App : 10,000,000+\n",
      "IndiGo : 5,000,000+\n",
      "LateRooms: Find Hotel Deals : 1,000,000+\n",
      "Choice Hotels : 1,000,000+\n",
      "Couchsurfing Travel App : 1,000,000+\n",
      "Hotwire Hotel & Car Rental App : 1,000,000+\n",
      "HomeAway Vacation Rentals : 5,000,000+\n",
      "IHG®: Hotel Deals & Rewards : 1,000,000+\n",
      "SPG: Starwood Hotels & Resorts : 1,000,000+\n",
      "Hotels.com: Book Hotel Rooms & Find Vacation Deals : 10,000,000+\n",
      "HotelTonight: Book amazing deals at great hotels : 5,000,000+\n",
      "Airbnb : 10,000,000+\n",
      "Hotels Combined - Cheap deals : 5,000,000+\n",
      "Agoda – Hotel Booking Deals : 10,000,000+\n",
      "Turo - Better Than Car Rental : 1,000,000+\n",
      "Cheap hotel deals and discounts — Hotellook : 1,000,000+\n",
      "GPS Status & Toolbox : 10,000,000+\n",
      "Airport + Flight Tracker Radar : 1,000,000+\n",
      "Scout GPS Navigation & Meet Up : 5,000,000+\n",
      "Street Panorama View : 1,000,000+\n",
      "Geo Tracker - GPS tracker : 1,000,000+\n",
      "Sygic Truck GPS Navigation : 1,000,000+\n",
      "Live Camera Viewer ★ World Webcam & IP Cam Streams : 10,000,000+\n",
      "Cathay Pacific : 1,000,000+\n",
      "The Emirates App : 1,000,000+\n",
      "MAPS.ME – Offline Map and Travel Navigation : 50,000,000+\n",
      "Offline Maps & Navigation : 5,000,000+\n",
      "XE Currency : 10,000,000+\n"
     ]
    }
   ],
   "source": [
    "large_n_installs = ['50,000,000+', '10,000,000+', '5,000,000+', '1,000,000+']\n",
    "\n",
    "for app in free_google_apps:\n",
    "    cat = app[1]\n",
    "    name = app[0]\n",
    "    installs = app[5]\n",
    "    if cat == 'TRAVEL_AND_LOCAL' and (installs in large_n_installs):\n",
    "        print(name, ':', installs)\n"
   ]
  },
  {
   "cell_type": "markdown",
   "metadata": {},
   "source": [
    "There appear to be a significantly greater number of apps in the Travel section in the google appstore. Upon a closer look however we can notice that alot of them are related to GPS, navgiation, and hotels. There are no apps that have a potential to compete with our app's share of the market, thus, our app idea is still feasibly viable."
   ]
  },
  {
   "cell_type": "markdown",
   "metadata": {},
   "source": [
    "# Conclusion\n",
    "\n",
    "We have now analyzed the two publically available datasets of the Apple and Google app stores. Based off of our analysis our recommendation for an app idea that could be profitable in both markets focuses on the Travel sector. Specifically a potential application is one that focuses on museums, national parks, and places of cultural importance. It would feature historical blurbs about the surroundings and would be a modernized version of a Travel Guide. "
   ]
  }
 ],
 "metadata": {
  "kernelspec": {
   "display_name": "Python 3",
   "language": "python",
   "name": "python3"
  },
  "language_info": {
   "codemirror_mode": {
    "name": "ipython",
    "version": 3
   },
   "file_extension": ".py",
   "mimetype": "text/x-python",
   "name": "python",
   "nbconvert_exporter": "python",
   "pygments_lexer": "ipython3",
   "version": "3.6.7"
  }
 },
 "nbformat": 4,
 "nbformat_minor": 2
}
